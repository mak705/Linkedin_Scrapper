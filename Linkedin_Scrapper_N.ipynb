{
 "cells": [
  {
   "cell_type": "code",
   "execution_count": 106,
   "metadata": {},
   "outputs": [],
   "source": [
    "from selenium import webdriver\n",
    "from bs4 import BeautifulSoup\n",
    "import getpass\n",
    "import requests\n",
    "from selenium.webdriver.common.keys import Keys\n",
    "import pprint"
   ]
  },
  {
   "cell_type": "code",
   "execution_count": 107,
   "metadata": {},
   "outputs": [],
   "source": [
    "chrome_path = '/usr/bin/chromedriver'\n",
    "driver = webdriver.Chrome(chrome_path)"
   ]
  },
  {
   "cell_type": "code",
   "execution_count": 108,
   "metadata": {},
   "outputs": [],
   "source": [
    "driver.get(\"https://www.linkedin.com\")"
   ]
  },
  {
   "cell_type": "code",
   "execution_count": 109,
   "metadata": {},
   "outputs": [],
   "source": [
    "#userid = str(input(\"Enter email address or number with country code: \"))\n",
    "#password = getpass.getpass('Enter your password:')\n",
    "userid='XXXXXXXXXX@gmail.com'\n",
    "password = ('XXXXX@XXXX$')"
   ]
  },
  {
   "cell_type": "code",
   "execution_count": 110,
   "metadata": {},
   "outputs": [],
   "source": [
    "driver.implicitly_wait(6)\n",
    "driver.find_element_by_xpath(\"\"\"//*[@id=\"login-email\"]\"\"\").send_keys(userid)\n",
    "driver.find_element_by_xpath(\"\"\"//*[@id=\"login-password\"]\"\"\").send_keys(password)\n",
    "driver.find_element_by_xpath(\"\"\"//*[@id=\"login-submit\"]\"\"\").click()"
   ]
  },
  {
   "cell_type": "code",
   "execution_count": 111,
   "metadata": {},
   "outputs": [],
   "source": [
    "url='www.linkedin.com/in/yourfriendname/'\n",
    "driver.get(\"https://\"+url.rstrip())"
   ]
  },
  {
   "cell_type": "code",
   "execution_count": 112,
   "metadata": {},
   "outputs": [
    {
     "name": "stdout",
     "output_type": "stream",
     "text": [
      "\n",
      "      yourfriendname\n",
      "    \n"
     ]
    }
   ],
   "source": [
    "connectionName = driver.find_element_by_class_name('pv-top-card-section__name').get_attribute('innerHTML')\n",
    "print(connectionName)"
   ]
  },
  {
   "cell_type": "code",
   "execution_count": 113,
   "metadata": {},
   "outputs": [],
   "source": [
    "url1='https://www.linkedin.com/mynetwork/invite-connect/connections/'\n",
    "driver.get(url1.rstrip())"
   ]
  },
  {
   "cell_type": "code",
   "execution_count": 114,
   "metadata": {},
   "outputs": [],
   "source": [
    "import time"
   ]
  },
  {
   "cell_type": "code",
   "execution_count": null,
   "metadata": {
    "scrolled": false
   },
   "outputs": [
    {
     "name": "stdout",
     "output_type": "stream",
     "text": [
      "https://www.linkedin.com/in/x1-s-x1/\n",
      "https://www.linkedin.com/in/x2-luz-x2/\n",
      "https://www.linkedin.com/in/x3964/\n",
      "https://www.linkedin.com/in/x4/\n",
      "https://www.linkedin.com/in/x5/\n",
      "https://www.linkedin.com/in/x6/\n"
     ]
    }
   ],
   "source": [
    "elems = driver.find_elements_by_xpath(\"//div[@class='mn-connection-card__details']//a[@data-control-name='connection_profile'][@href]\")\n",
    "\n",
    "for elem in elems:\n",
    "    driver.execute_script(\"window.scrollTo(0, document.body.scrollHeight);\")\n",
    "    time.sleep(10)\n",
    "    print (elem.get_attribute(\"href\"))\n",
    "    "
   ]
  },
  {
   "cell_type": "code",
   "execution_count": 1,
   "metadata": {},
   "outputs": [],
   "source": [
    "# while True:\n",
    "#     try:\n",
    "#         loadMoreButton = driver.find_elements_by_xpath(\"//div[@class='mn-connection-card__details']//a[@data-control-name='connection_profile'][@href]\")\n",
    "#         for elem in elems:\n",
    "#             print (elem.get_attribute(\"href\"))\n",
    "#         time.sleep(2)\n",
    "#         #self.driver.execute_script(\"window.scrollTo(0, document.body.scrollHeight);\")\n",
    "#         time.sleep(20)\n",
    "#     except Exception as e:\n",
    "#         print( e)\n",
    "#         break\n",
    "# print ('hik')\n",
    "# time.sleep(10)\n",
    "# driver.quit()"
   ]
  },
  {
   "cell_type": "code",
   "execution_count": null,
   "metadata": {},
   "outputs": [],
   "source": []
  }
 ],
 "metadata": {
  "kernelspec": {
   "display_name": "Python 3",
   "language": "python",
   "name": "python3"
  },
  "language_info": {
   "codemirror_mode": {
    "name": "ipython",
    "version": 3
   },
   "file_extension": ".py",
   "mimetype": "text/x-python",
   "name": "python",
   "nbconvert_exporter": "python",
   "pygments_lexer": "ipython3",
   "version": "3.6.4"
  }
 },
 "nbformat": 4,
 "nbformat_minor": 2
}
